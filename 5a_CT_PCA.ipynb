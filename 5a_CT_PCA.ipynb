{
 "cells": [
  {
   "cell_type": "code",
   "execution_count": 11,
   "id": "a029e8dd",
   "metadata": {},
   "outputs": [],
   "source": [
    "import os\n",
    "import torch\n",
    "import numpy as np\n",
    "from torchvision import transforms, datasets\n",
    "from torch.utils.data import DataLoader, TensorDataset\n",
    "from sklearn.decomposition import PCA\n",
    "from sklearn.metrics import classification_report, confusion_matrix\n",
    "import matplotlib.pyplot as plt\n",
    "import seaborn as sns\n",
    "from tqdm import tqdm\n",
    "import torch.nn as nn\n",
    "import torch.optim as optim\n",
    "import random"
   ]
  },
  {
   "cell_type": "code",
   "execution_count": 12,
   "id": "e4b99e28",
   "metadata": {},
   "outputs": [
    {
     "data": {
      "text/plain": [
       "<torch._C.Generator at 0x204be72a090>"
      ]
     },
     "execution_count": 12,
     "metadata": {},
     "output_type": "execute_result"
    }
   ],
   "source": [
    "# riproducibilità\n",
    "random.seed(42)\n",
    "torch.manual_seed(42)"
   ]
  },
  {
   "cell_type": "code",
   "execution_count": 13,
   "id": "60d1376e",
   "metadata": {},
   "outputs": [],
   "source": [
    "# CONFIGURAZIONE\n",
    "base_dir = os.getcwd()\n",
    "image_size = 224\n",
    "batch_size = 32\n",
    "n_components = 3\n",
    "# 3, 8, 17, 40, 146\n",
    "# dimensioni su cui vogliamo fare PCA, trovate con explained variance \n",
    "# e selezionado le soglie = [0.95, 0.85, 0.75, 0.65, 0.50]\n",
    "epochs = 100\n",
    "output_folder = os.path.join(base_dir, \"pca_outputs\")\n",
    "save_path = os.path.join(output_folder, f'pca_data_{n_components}.pth')\n",
    "pretty_labels = ['Adenocarcinoma', 'Large Cell', 'Normal', 'Squamous Cell']\n",
    "log_txt_path = os.path.join(output_folder, \"classification_reports.txt\")"
   ]
  },
  {
   "cell_type": "code",
   "execution_count": 14,
   "id": "516abd0a",
   "metadata": {},
   "outputs": [
    {
     "name": "stderr",
     "output_type": "stream",
     "text": [
      "C:\\Users\\noemi\\AppData\\Local\\Temp\\ipykernel_14800\\949298212.py:6: UserWarning: To copy construct from a tensor, it is recommended to use sourceTensor.detach().clone() or sourceTensor.detach().clone().requires_grad_(True), rather than torch.tensor(sourceTensor).\n",
      "  y_train = torch.tensor(data_dict['train_labels'], dtype=torch.long)\n"
     ]
    }
   ],
   "source": [
    "# RICARICA E TRAIN\n",
    "data_dict = torch.load(save_path, weights_only=False)\n",
    "\n",
    "\n",
    "X_train = torch.tensor(data_dict['train_data'], dtype=torch.float32)\n",
    "y_train = torch.tensor(data_dict['train_labels'], dtype=torch.long)\n",
    "X_val = torch.tensor(data_dict['val_data'], dtype=torch.float32)\n",
    "y_val = torch.tensor(data_dict['val_labels'], dtype=torch.long)\n",
    "X_test = torch.tensor(data_dict['test_data'], dtype=torch.float32)\n",
    "y_test = torch.tensor(data_dict['test_labels'], dtype=torch.long)\n",
    "\n",
    "train_loader = DataLoader(TensorDataset(X_train, y_train), batch_size=batch_size, shuffle=True)\n",
    "val_loader = DataLoader(TensorDataset(X_val, y_val), batch_size=batch_size)\n",
    "test_loader = DataLoader(TensorDataset(X_test, y_test), batch_size=batch_size)"
   ]
  },
  {
   "cell_type": "code",
   "execution_count": 15,
   "id": "14f01eda",
   "metadata": {},
   "outputs": [],
   "source": [
    "# RETE\n",
    "class FeedforwardNet(nn.Module):\n",
    "    def __init__(self, input_dim, hidden_dim, output_dim, dropout=0.6):\n",
    "        super().__init__()\n",
    "        self.fc1 = nn.Linear(input_dim, hidden_dim)\n",
    "        self.bn1 = nn.BatchNorm1d(hidden_dim)\n",
    "        self.fc2 = nn.Linear(hidden_dim, hidden_dim)\n",
    "        self.bn2 = nn.BatchNorm1d(hidden_dim)\n",
    "        self.relu = nn.ReLU()\n",
    "        self.dropout = nn.Dropout(dropout)\n",
    "        self.fc3 = nn.Linear(hidden_dim, output_dim)\n",
    "\n",
    "    def forward(self, x):\n",
    "        x = self.dropout(self.relu(self.bn1(self.fc1(x))))\n",
    "        x = self.dropout(self.relu(self.bn2(self.fc2(x))))\n",
    "        return self.fc3(x)\n"
   ]
  },
  {
   "cell_type": "code",
   "execution_count": 16,
   "id": "35e5bb77",
   "metadata": {},
   "outputs": [],
   "source": [
    "model = FeedforwardNet(n_components, 128, len(data_dict['class_names'])) #128, 64\n",
    "criterion = nn.CrossEntropyLoss()\n",
    "optimizer = optim.Adam(model.parameters(), lr=0.001, weight_decay=1e-4)"
   ]
  },
  {
   "cell_type": "code",
   "execution_count": 17,
   "id": "fafe762a",
   "metadata": {},
   "outputs": [
    {
     "name": "stdout",
     "output_type": "stream",
     "text": [
      "Epoch 1/100 | Train Loss: 33.5642 | Train Acc: 36.54% | Val Loss: 3.7621 | Val Acc: 37.50%\n",
      "Epoch 2/100 | Train Loss: 29.3535 | Train Acc: 45.26% | Val Loss: 3.5840 | Val Acc: 50.00%\n",
      "Epoch 3/100 | Train Loss: 27.8449 | Train Acc: 47.95% | Val Loss: 3.5182 | Val Acc: 50.00%\n",
      "Epoch 4/100 | Train Loss: 27.0871 | Train Acc: 51.41% | Val Loss: 3.4494 | Val Acc: 50.00%\n",
      "Epoch 5/100 | Train Loss: 26.5721 | Train Acc: 51.41% | Val Loss: 3.4074 | Val Acc: 50.00%\n",
      "Epoch 6/100 | Train Loss: 26.1922 | Train Acc: 51.67% | Val Loss: 3.3319 | Val Acc: 52.78%\n",
      "Epoch 7/100 | Train Loss: 25.6875 | Train Acc: 51.54% | Val Loss: 3.3480 | Val Acc: 50.00%\n",
      "Epoch 8/100 | Train Loss: 26.8221 | Train Acc: 51.41% | Val Loss: 3.3222 | Val Acc: 50.00%\n",
      "Epoch 9/100 | Train Loss: 26.1191 | Train Acc: 50.51% | Val Loss: 3.2807 | Val Acc: 54.17%\n",
      "Epoch 10/100 | Train Loss: 25.0188 | Train Acc: 51.92% | Val Loss: 3.2680 | Val Acc: 50.00%\n",
      "Epoch 11/100 | Train Loss: 24.6477 | Train Acc: 53.59% | Val Loss: 3.2820 | Val Acc: 45.83%\n",
      "Epoch 12/100 | Train Loss: 24.8352 | Train Acc: 51.67% | Val Loss: 3.2851 | Val Acc: 51.39%\n",
      "Epoch 13/100 | Train Loss: 24.7227 | Train Acc: 55.00% | Val Loss: 3.2578 | Val Acc: 52.78%\n",
      "Epoch 14/100 | Train Loss: 25.2105 | Train Acc: 53.08% | Val Loss: 3.2484 | Val Acc: 48.61%\n",
      "Epoch 15/100 | Train Loss: 24.7467 | Train Acc: 54.10% | Val Loss: 3.2455 | Val Acc: 51.39%\n",
      "Epoch 16/100 | Train Loss: 25.1729 | Train Acc: 51.41% | Val Loss: 3.2082 | Val Acc: 50.00%\n",
      "Epoch 17/100 | Train Loss: 24.6998 | Train Acc: 53.97% | Val Loss: 3.2179 | Val Acc: 50.00%\n",
      "Epoch 18/100 | Train Loss: 24.6320 | Train Acc: 53.08% | Val Loss: 3.2215 | Val Acc: 47.22%\n",
      "Epoch 19/100 | Train Loss: 24.2219 | Train Acc: 55.51% | Val Loss: 3.2329 | Val Acc: 50.00%\n",
      "Epoch 20/100 | Train Loss: 24.6605 | Train Acc: 53.85% | Val Loss: 3.2392 | Val Acc: 47.22%\n",
      "Epoch 21/100 | Train Loss: 24.3519 | Train Acc: 55.00% | Val Loss: 3.2280 | Val Acc: 50.00%\n",
      "Epoch 22/100 | Train Loss: 23.9864 | Train Acc: 53.08% | Val Loss: 3.1942 | Val Acc: 48.61%\n",
      "Epoch 23/100 | Train Loss: 24.6002 | Train Acc: 54.10% | Val Loss: 3.2298 | Val Acc: 50.00%\n",
      "Epoch 24/100 | Train Loss: 24.6209 | Train Acc: 56.15% | Val Loss: 3.2495 | Val Acc: 47.22%\n",
      "Epoch 25/100 | Train Loss: 24.2635 | Train Acc: 52.95% | Val Loss: 3.1992 | Val Acc: 48.61%\n",
      "Epoch 26/100 | Train Loss: 24.7878 | Train Acc: 51.79% | Val Loss: 3.2035 | Val Acc: 47.22%\n",
      "Epoch 27/100 | Train Loss: 24.3105 | Train Acc: 55.26% | Val Loss: 3.2266 | Val Acc: 47.22%\n",
      "Epoch 28/100 | Train Loss: 24.6642 | Train Acc: 55.51% | Val Loss: 3.2240 | Val Acc: 47.22%\n",
      "Epoch 29/100 | Train Loss: 24.3113 | Train Acc: 55.00% | Val Loss: 3.2057 | Val Acc: 50.00%\n",
      "Epoch 30/100 | Train Loss: 24.8102 | Train Acc: 51.79% | Val Loss: 3.2102 | Val Acc: 47.22%\n",
      "Epoch 31/100 | Train Loss: 23.8237 | Train Acc: 55.77% | Val Loss: 3.2170 | Val Acc: 47.22%\n",
      "Epoch 32/100 | Train Loss: 24.1227 | Train Acc: 52.69% | Val Loss: 3.2129 | Val Acc: 45.83%\n",
      "🛑 Early stopping triggered.\n"
     ]
    }
   ],
   "source": [
    "# TRAINING con validazione ed early stopping\n",
    "def train_model(patience=10):\n",
    "    best_val_loss = float('inf')\n",
    "    trigger_times = 0\n",
    "\n",
    "    for epoch in range(epochs):\n",
    "        model.train()\n",
    "        total_loss, correct, total = 0, 0, 0\n",
    "        for X_batch, y_batch in train_loader:\n",
    "            optimizer.zero_grad()\n",
    "            output = model(X_batch)\n",
    "            loss = criterion(output, y_batch)\n",
    "            loss.backward()\n",
    "            optimizer.step()\n",
    "            total_loss += loss.item()\n",
    "            correct += (output.argmax(1) == y_batch).sum().item()\n",
    "            total += y_batch.size(0)\n",
    "        train_acc = 100 * correct / total\n",
    "\n",
    "        # VALIDAZIONE\n",
    "        model.eval()\n",
    "        val_loss, val_correct, val_total = 0, 0, 0\n",
    "        with torch.no_grad():\n",
    "            for X_batch, y_batch in val_loader:\n",
    "                output = model(X_batch)\n",
    "                loss = criterion(output, y_batch)\n",
    "                val_loss += loss.item()\n",
    "                val_correct += (output.argmax(1) == y_batch).sum().item()\n",
    "                val_total += y_batch.size(0)\n",
    "        val_acc = 100 * val_correct / val_total\n",
    "\n",
    "        print(f\"Epoch {epoch+1}/{epochs} | Train Loss: {total_loss:.4f} | Train Acc: {train_acc:.2f}% | Val Loss: {val_loss:.4f} | Val Acc: {val_acc:.2f}%\")\n",
    "\n",
    "        # EARLY STOPPING\n",
    "        if val_loss < best_val_loss:\n",
    "            best_val_loss = val_loss\n",
    "            trigger_times = 0\n",
    "            best_model_state = model.state_dict()\n",
    "        else:\n",
    "            trigger_times += 1\n",
    "            if trigger_times >= patience:\n",
    "                print(\"🛑 Early stopping triggered.\")\n",
    "                break\n",
    "\n",
    "    # Restore best model\n",
    "    model.load_state_dict(best_model_state)\n",
    "\n",
    "train_model()\n"
   ]
  },
  {
   "cell_type": "code",
   "execution_count": 18,
   "id": "1db7adb9",
   "metadata": {},
   "outputs": [
    {
     "name": "stdout",
     "output_type": "stream",
     "text": [
      "\n",
      "🧪 Test Loss: 12.1217 | Test Accuracy: 38.10%\n"
     ]
    }
   ],
   "source": [
    "# VALUTAZIONE FINALE\n",
    "model.eval()\n",
    "y_true = []\n",
    "y_pred = []\n",
    "test_loss, test_correct, test_total = 0, 0, 0\n",
    "\n",
    "with torch.no_grad():\n",
    "    for X_batch, y_batch in test_loader:\n",
    "        output = model(X_batch)\n",
    "        loss = criterion(output, y_batch)  # calcolo del test loss\n",
    "        test_loss += loss.item()\n",
    "        preds = output.argmax(1)\n",
    "\n",
    "        y_true.extend(y_batch.tolist())\n",
    "        y_pred.extend(preds.tolist())\n",
    "\n",
    "        test_correct += (preds == y_batch).sum().item()\n",
    "        test_total += y_batch.size(0)\n",
    "\n",
    "# Metriche test\n",
    "test_acc = 100 * test_correct / test_total\n",
    "print(f\"\\n🧪 Test Loss: {test_loss:.4f} | Test Accuracy: {test_acc:.2f}%\")\n"
   ]
  },
  {
   "cell_type": "code",
   "execution_count": 19,
   "id": "75e4c411",
   "metadata": {},
   "outputs": [
    {
     "name": "stdout",
     "output_type": "stream",
     "text": [
      "Classification Report 3:\n",
      "\n",
      "                precision    recall  f1-score   support\n",
      "\n",
      "Adenocarcinoma       0.36      0.34      0.35       120\n",
      "    Large Cell       0.22      0.61      0.32        51\n",
      "        Normal       1.00      0.87      0.93        54\n",
      " Squamous Cell       0.07      0.01      0.02        90\n",
      "\n",
      "      accuracy                           0.38       315\n",
      "     macro avg       0.41      0.46      0.41       315\n",
      "  weighted avg       0.37      0.38      0.35       315\n",
      "\n"
     ]
    }
   ],
   "source": [
    "# Report in console\n",
    "report_txt = classification_report(y_true, y_pred, target_names=pretty_labels)\n",
    "print(f\"Classification Report {n_components}:\\n\")\n",
    "print(report_txt)\n",
    "\n",
    "# Salva su file\n",
    "with open(log_txt_path, \"a\") as f:\n",
    "    f.write(f\"Classification Report - {n_components} Components\\n\")\n",
    "    f.write(report_txt)\n",
    "    f.write(\"\\n\" + \"=\"*80 + \"\\n\")"
   ]
  },
  {
   "cell_type": "code",
   "execution_count": 20,
   "id": "e2e4d080",
   "metadata": {},
   "outputs": [
    {
     "data": {
      "image/png": "[encoded data removed]",
      "text/plain": [
       "<Figure size 800x600 with 2 Axes>"
      ]
     },
     "metadata": {},
     "output_type": "display_data"
    }
   ],
   "source": [
    "# Confusion Matrix\n",
    "cm = confusion_matrix(y_true, y_pred)\n",
    "title = f'Confusion Matrix_{n_components}'\n",
    "plt.figure(figsize=(8, 6))\n",
    "sns.heatmap(cm, annot=True, fmt='d', xticklabels=pretty_labels, yticklabels=pretty_labels, cmap='Blues')\n",
    "plt.xlabel('Predicted')\n",
    "plt.ylabel('True')\n",
    "plt.title(title)\n",
    "plot_path = os.path.join(output_folder, f'{title}.png')\n",
    "plt.savefig(plot_path)\n",
    "plt.tight_layout()\n",
    "plt.show()"
   ]
  }
 ],
 "metadata": {
  "kernelspec": {
   "display_name": "base",
   "language": "python",
   "name": "python3"
  },
  "language_info": {
   "codemirror_mode": {
    "name": "ipython",
    "version": 3
   },
   "file_extension": ".py",
   "mimetype": "text/x-python",
   "name": "python",
   "nbconvert_exporter": "python",
   "pygments_lexer": "ipython3",
   "version": "3.12.7"
  }
 },
 "nbformat": 4,
 "nbformat_minor": 5
}
