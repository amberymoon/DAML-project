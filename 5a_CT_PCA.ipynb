{
 "cells": [
  {
   "cell_type": "code",
   "execution_count": 257,
   "id": "a029e8dd",
   "metadata": {},
   "outputs": [],
   "source": [
    "import os\n",
    "import torch\n",
    "import numpy as np\n",
    "from torchvision import transforms, datasets\n",
    "from torch.utils.data import DataLoader, TensorDataset\n",
    "from sklearn.decomposition import PCA\n",
    "from sklearn.metrics import classification_report, confusion_matrix\n",
    "import matplotlib.pyplot as plt\n",
    "import seaborn as sns\n",
    "from tqdm import tqdm\n",
    "import torch.nn as nn\n",
    "import torch.optim as optim\n",
    "from sklearn.utils.class_weight import compute_class_weight\n",
    "import random"
   ]
  },
  {
   "cell_type": "code",
   "execution_count": 258,
   "id": "e4b99e28",
   "metadata": {},
   "outputs": [
    {
     "data": {
      "text/plain": [
       "<torch._C.Generator at 0x29964efa090>"
      ]
     },
     "execution_count": 258,
     "metadata": {},
     "output_type": "execute_result"
    }
   ],
   "source": [
    "# riproducibilità\n",
    "random.seed(42)\n",
    "torch.manual_seed(42)"
   ]
  },
  {
   "cell_type": "code",
   "execution_count": 259,
   "id": "60d1376e",
   "metadata": {},
   "outputs": [],
   "source": [
    "# CONFIGURAZIONE\n",
    "base_dir = os.getcwd()\n",
    "image_size = 224\n",
    "batch_size = 32 #32, 16\n",
    "n_components = 146\n",
    "# 3, 8, 17, 40, 146\n",
    "# dimensioni su cui vogliamo fare PCA, trovate con explained variance \n",
    "# e selezionado le soglie = [0.95, 0.85, 0.75, 0.65, 0.50]\n",
    "epochs = 100\n",
    "output_folder = os.path.join(base_dir, \"pca_outputs\")\n",
    "save_path = os.path.join(output_folder, f'pca_data_{n_components}_augmented.pth')\n",
    "pretty_labels = ['Adenocarcinoma', 'Large Cell', 'Normal', 'Squamous Cell']\n",
    "log_txt_path = os.path.join(output_folder, \"classification_reports.txt\")"
   ]
  },
  {
   "cell_type": "code",
   "execution_count": 260,
   "id": "516abd0a",
   "metadata": {},
   "outputs": [
    {
     "name": "stderr",
     "output_type": "stream",
     "text": [
      "C:\\Users\\noemi\\AppData\\Local\\Temp\\ipykernel_12096\\949298212.py:6: UserWarning: To copy construct from a tensor, it is recommended to use sourceTensor.detach().clone() or sourceTensor.detach().clone().requires_grad_(True), rather than torch.tensor(sourceTensor).\n",
      "  y_train = torch.tensor(data_dict['train_labels'], dtype=torch.long)\n"
     ]
    }
   ],
   "source": [
    "# RICARICA E TRAIN\n",
    "data_dict = torch.load(save_path, weights_only=False)\n",
    "\n",
    "\n",
    "X_train = torch.tensor(data_dict['train_data'], dtype=torch.float32)\n",
    "y_train = torch.tensor(data_dict['train_labels'], dtype=torch.long)\n",
    "X_val = torch.tensor(data_dict['val_data'], dtype=torch.float32)\n",
    "y_val = torch.tensor(data_dict['val_labels'], dtype=torch.long)\n",
    "X_test = torch.tensor(data_dict['test_data'], dtype=torch.float32)\n",
    "y_test = torch.tensor(data_dict['test_labels'], dtype=torch.long)\n",
    "\n",
    "train_loader = DataLoader(TensorDataset(X_train, y_train), batch_size=batch_size, shuffle=True)\n",
    "val_loader = DataLoader(TensorDataset(X_val, y_val), batch_size=batch_size)\n",
    "test_loader = DataLoader(TensorDataset(X_test, y_test), batch_size=batch_size)"
   ]
  },
  {
   "cell_type": "code",
   "execution_count": null,
   "id": "14f01eda",
   "metadata": {},
   "outputs": [],
   "source": [
    "# RETE\n",
    "class FeedforwardNet(nn.Module):\n",
    "    def __init__(self, input_dim, hidden_dim, output_dim, dropout=0.6):\n",
    "        super().__init__()\n",
    "        self.fc1 = nn.Linear(input_dim, hidden_dim)\n",
    "        self.bn1 = nn.BatchNorm1d(hidden_dim)\n",
    "        self.fc2 = nn.Linear(hidden_dim, hidden_dim)\n",
    "        self.bn2 = nn.BatchNorm1d(hidden_dim)\n",
    "        self.relu = nn.ReLU()\n",
    "        self.dropout = nn.Dropout(dropout)\n",
    "        self.fc3 = nn.Linear(hidden_dim, output_dim)\n",
    "\n",
    "    def forward(self, x):\n",
    "        x = self.dropout(self.relu(self.bn1(self.fc1(x))))\n",
    "        x = self.dropout(self.relu(self.bn2(self.fc2(x))))\n",
    "        return self.fc3(x)\n",
    "\n"
   ]
  },
  {
   "cell_type": "code",
   "execution_count": 262,
   "id": "35e5bb77",
   "metadata": {},
   "outputs": [],
   "source": [
    "model = FeedforwardNet(n_components, 256, len(data_dict['class_names'])) #128, 64\n",
    "criterion = nn.CrossEntropyLoss()\n",
    "optimizer = optim.Adam(model.parameters(), lr=0.001, weight_decay=1e-4)\n",
    "#scheduler = torch.optim.lr_scheduler.ReduceLROnPlateau(optimizer, patience=2, factor=0.5)\n",
    "\n",
    "# === CLASS WEIGHTS ===\n",
    "class_weights = compute_class_weight('balanced', classes=np.unique(y_train), y=y_train.numpy())\n",
    "class_weights = torch.tensor(class_weights, dtype=torch.float32)\n",
    "# === LOSS, OPTIMIZER, SCHEDULER ===\n",
    "criterion = nn.CrossEntropyLoss(weight=class_weights)\n",
    "optimizer = optim.Adam(model.parameters(), lr=0.001, weight_decay=1e-5)\n",
    "scheduler = optim.lr_scheduler.ReduceLROnPlateau(optimizer, mode='min', patience=3, factor=0.5)\n"
   ]
  },
  {
   "cell_type": "code",
   "execution_count": 263,
   "id": "fafe762a",
   "metadata": {},
   "outputs": [
    {
     "name": "stdout",
     "output_type": "stream",
     "text": [
      "Epoch 1/100 | Train Loss: 119.6452 | Train Acc: 55.59% | Val Loss: 2.7123 | Val Acc: 66.67%\n",
      "Epoch 2/100 | Train Loss: 78.3548 | Train Acc: 73.74% | Val Loss: 2.3548 | Val Acc: 68.06%\n",
      "Epoch 3/100 | Train Loss: 61.1004 | Train Acc: 79.97% | Val Loss: 2.0565 | Val Acc: 69.44%\n",
      "Epoch 4/100 | Train Loss: 51.2350 | Train Acc: 83.49% | Val Loss: 1.9457 | Val Acc: 70.83%\n",
      "Epoch 5/100 | Train Loss: 45.4894 | Train Acc: 85.56% | Val Loss: 1.7595 | Val Acc: 72.22%\n",
      "Epoch 6/100 | Train Loss: 41.1761 | Train Acc: 87.33% | Val Loss: 1.8290 | Val Acc: 73.61%\n",
      "Epoch 7/100 | Train Loss: 37.5015 | Train Acc: 87.90% | Val Loss: 1.9140 | Val Acc: 70.83%\n",
      "Epoch 8/100 | Train Loss: 33.4878 | Train Acc: 89.90% | Val Loss: 1.8843 | Val Acc: 70.83%\n",
      "Epoch 9/100 | Train Loss: 30.0405 | Train Acc: 90.92% | Val Loss: 1.8104 | Val Acc: 76.39%\n",
      "Epoch 10/100 | Train Loss: 27.6161 | Train Acc: 91.54% | Val Loss: 1.8264 | Val Acc: 69.44%\n",
      "Epoch 11/100 | Train Loss: 25.5939 | Train Acc: 92.28% | Val Loss: 1.5366 | Val Acc: 76.39%\n",
      "Epoch 12/100 | Train Loss: 24.1896 | Train Acc: 92.74% | Val Loss: 1.5497 | Val Acc: 79.17%\n",
      "Epoch 13/100 | Train Loss: 21.9889 | Train Acc: 93.90% | Val Loss: 1.6245 | Val Acc: 76.39%\n",
      "Epoch 14/100 | Train Loss: 22.6962 | Train Acc: 92.87% | Val Loss: 1.7334 | Val Acc: 77.78%\n",
      "Epoch 15/100 | Train Loss: 20.9854 | Train Acc: 93.64% | Val Loss: 1.6022 | Val Acc: 76.39%\n",
      "Epoch 16/100 | Train Loss: 18.5603 | Train Acc: 94.87% | Val Loss: 1.7278 | Val Acc: 79.17%\n",
      "Epoch 17/100 | Train Loss: 20.1790 | Train Acc: 94.05% | Val Loss: 1.5734 | Val Acc: 80.56%\n",
      "Epoch 18/100 | Train Loss: 19.0467 | Train Acc: 94.41% | Val Loss: 1.7862 | Val Acc: 80.56%\n",
      "Epoch 19/100 | Train Loss: 18.5452 | Train Acc: 94.82% | Val Loss: 1.7182 | Val Acc: 77.78%\n",
      "Epoch 20/100 | Train Loss: 18.3070 | Train Acc: 94.51% | Val Loss: 1.8188 | Val Acc: 80.56%\n",
      "Epoch 21/100 | Train Loss: 15.8823 | Train Acc: 95.26% | Val Loss: 1.8236 | Val Acc: 76.39%\n",
      "🛑 Early stopping triggered.\n"
     ]
    }
   ],
   "source": [
    "# TRAINING con validazione ed early stopping\n",
    "def train_model(patience=10):\n",
    "    best_val_loss = float('inf')\n",
    "    trigger_times = 0\n",
    "\n",
    "    for epoch in range(epochs):\n",
    "        model.train()\n",
    "        total_loss, correct, total = 0, 0, 0\n",
    "        for X_batch, y_batch in train_loader:\n",
    "            optimizer.zero_grad()\n",
    "            output = model(X_batch)\n",
    "            loss = criterion(output, y_batch)\n",
    "            loss.backward()\n",
    "            optimizer.step()\n",
    "            total_loss += loss.item()\n",
    "            correct += (output.argmax(1) == y_batch).sum().item()\n",
    "            total += y_batch.size(0)\n",
    "        train_acc = 100 * correct / total\n",
    "\n",
    "        # VALIDAZIONE\n",
    "        model.eval()\n",
    "        val_loss, val_correct, val_total = 0, 0, 0\n",
    "        with torch.no_grad():\n",
    "            for X_batch, y_batch in val_loader:\n",
    "                output = model(X_batch)\n",
    "                loss = criterion(output, y_batch)\n",
    "                val_loss += loss.item()\n",
    "                val_correct += (output.argmax(1) == y_batch).sum().item()\n",
    "                val_total += y_batch.size(0)\n",
    "        val_acc = 100 * val_correct / val_total\n",
    "\n",
    "        print(f\"Epoch {epoch+1}/{epochs} | Train Loss: {total_loss:.4f} | Train Acc: {train_acc:.2f}% | Val Loss: {val_loss:.4f} | Val Acc: {val_acc:.2f}%\")\n",
    "\n",
    "        # EARLY STOPPING\n",
    "        if val_loss < best_val_loss:\n",
    "            best_val_loss = val_loss\n",
    "            trigger_times = 0\n",
    "            best_model_state = model.state_dict()\n",
    "        else:\n",
    "            trigger_times += 1\n",
    "            if trigger_times >= patience:\n",
    "                print(\"🛑 Early stopping triggered.\")\n",
    "                break\n",
    "\n",
    "    # Restore best model\n",
    "    model.load_state_dict(best_model_state)\n",
    "\n",
    "train_model()\n"
   ]
  },
  {
   "cell_type": "code",
   "execution_count": 264,
   "id": "1db7adb9",
   "metadata": {},
   "outputs": [
    {
     "name": "stdout",
     "output_type": "stream",
     "text": [
      "\n",
      "🧪 Test Loss: 16.6079 | Test Accuracy: 53.65%\n"
     ]
    }
   ],
   "source": [
    "# VALUTAZIONE FINALE\n",
    "model.eval()\n",
    "y_true = []\n",
    "y_pred = []\n",
    "test_loss, test_correct, test_total = 0, 0, 0\n",
    "\n",
    "with torch.no_grad():\n",
    "    for X_batch, y_batch in test_loader:\n",
    "        output = model(X_batch)\n",
    "        loss = criterion(output, y_batch)  # calcolo del test loss\n",
    "        test_loss += loss.item()\n",
    "        preds = output.argmax(1)\n",
    "\n",
    "        y_true.extend(y_batch.tolist())\n",
    "        y_pred.extend(preds.tolist())\n",
    "\n",
    "        test_correct += (preds == y_batch).sum().item()\n",
    "        test_total += y_batch.size(0)\n",
    "\n",
    "# Metriche test\n",
    "test_acc = 100 * test_correct / test_total\n",
    "print(f\"\\n🧪 Test Loss: {test_loss:.4f} | Test Accuracy: {test_acc:.2f}%\")\n"
   ]
  },
  {
   "cell_type": "code",
   "execution_count": 265,
   "id": "75e4c411",
   "metadata": {},
   "outputs": [
    {
     "name": "stdout",
     "output_type": "stream",
     "text": [
      "\n",
      "🧪 Test Loss: 16.6079 | Test Accuracy: 53.65%\n",
      "Classification Report 146 PCA:\n",
      "\n",
      "                precision    recall  f1-score   support\n",
      "\n",
      "Adenocarcinoma       0.64      0.15      0.24       120\n",
      "    Large Cell       0.38      0.80      0.52        51\n",
      "        Normal       0.68      0.96      0.79        54\n",
      " Squamous Cell       0.57      0.64      0.60        90\n",
      "\n",
      "      accuracy                           0.54       315\n",
      "     macro avg       0.57      0.64      0.54       315\n",
      "  weighted avg       0.58      0.54      0.48       315\n",
      "\n"
     ]
    }
   ],
   "source": [
    "y_true, y_pred = [], []\n",
    "test_loss, test_correct, test_total = 0, 0, 0\n",
    "\n",
    "with torch.no_grad():\n",
    "    for X_batch, y_batch in test_loader:\n",
    "        output = model(X_batch)\n",
    "        loss = criterion(output, y_batch)\n",
    "        test_loss += loss.item()\n",
    "        preds = output.argmax(1)\n",
    "        y_true.extend(y_batch.tolist())\n",
    "        y_pred.extend(preds.tolist())\n",
    "        test_correct += (preds == y_batch).sum().item()\n",
    "        test_total += y_batch.size(0)\n",
    "\n",
    "test_acc = 100 * test_correct / test_total\n",
    "print(f\"\\n\\U0001F9EA Test Loss: {test_loss:.4f} | Test Accuracy: {test_acc:.2f}%\")\n",
    "\n",
    "report_txt = classification_report(y_true, y_pred, target_names=pretty_labels)\n",
    "print(f\"Classification Report {n_components} PCA:\\n\\n{report_txt}\")"
   ]
  },
  {
   "cell_type": "code",
   "execution_count": 266,
   "id": "e2e4d080",
   "metadata": {},
   "outputs": [
    {
     "data": {
      "image/png": "[encoded data removed]",
      "text/plain": [
       "<Figure size 800x600 with 2 Axes>"
      ]
     },
     "metadata": {},
     "output_type": "display_data"
    }
   ],
   "source": [
    "# Confusion Matrix\n",
    "cm = confusion_matrix(y_true, y_pred)\n",
    "title = f'Confusion Matrix_{n_components}'\n",
    "plt.figure(figsize=(8, 6))\n",
    "sns.heatmap(cm, annot=True, fmt='d', xticklabels=pretty_labels, yticklabels=pretty_labels, cmap='Blues')\n",
    "plt.xlabel('Predicted')\n",
    "plt.ylabel('True')\n",
    "plt.title(title)\n",
    "plot_path = os.path.join(output_folder, f'{title}.png')\n",
    "plt.savefig(plot_path)\n",
    "plt.tight_layout()\n",
    "plt.show()"
   ]
  }
 ],
 "metadata": {
  "kernelspec": {
   "display_name": "base",
   "language": "python",
   "name": "python3"
  },
  "language_info": {
   "codemirror_mode": {
    "name": "ipython",
    "version": 3
   },
   "file_extension": ".py",
   "mimetype": "text/x-python",
   "name": "python",
   "nbconvert_exporter": "python",
   "pygments_lexer": "ipython3",
   "version": "3.12.7"
  }
 },
 "nbformat": 4,
 "nbformat_minor": 5
}
