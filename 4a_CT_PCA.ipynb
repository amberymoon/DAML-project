{
 "cells": [
  {
   "cell_type": "code",
   "execution_count": 1,
   "id": "e1a3b160",
   "metadata": {},
   "outputs": [],
   "source": [
    "import os\n",
    "import torch\n",
    "import numpy as np\n",
    "from torchvision import transforms, datasets\n",
    "from torch.utils.data import DataLoader, TensorDataset\n",
    "from sklearn.decomposition import PCA\n",
    "from sklearn.metrics import classification_report, confusion_matrix\n",
    "import matplotlib.pyplot as plt\n",
    "import seaborn as sns\n",
    "from tqdm import tqdm\n",
    "import torch.nn as nn\n",
    "import torch.optim as optim\n",
    "import random\n",
    "import collections\n",
    "import matplotlib.pyplot as plt\n",
    "from data_augmentation import build_balanced_augmented_tensor_dataset"
   ]
  },
  {
   "cell_type": "code",
   "execution_count": 2,
   "id": "66526bca",
   "metadata": {},
   "outputs": [
    {
     "data": {
      "text/plain": [
       "<torch._C.Generator at 0x12a484ba090>"
      ]
     },
     "execution_count": 2,
     "metadata": {},
     "output_type": "execute_result"
    }
   ],
   "source": [
    "# riproducibilità\n",
    "random.seed(42)\n",
    "torch.manual_seed(42)"
   ]
  },
  {
   "cell_type": "code",
   "execution_count": 3,
   "id": "2e73d649",
   "metadata": {},
   "outputs": [],
   "source": [
    "# CONFIGURAZIONE\n",
    "base_dir = os.getcwd()\n",
    "image_size = 224\n",
    "batch_size = 32\n",
    "n_components = 146\n",
    "# 3, 8, 17, 40, 146\n",
    "# dimensioni su cui vogliamo fare PCA, trovate con explained variance \n",
    "# e selezionado le soglie = [0.95, 0.85, 0.75, 0.65, 0.50]\n",
    "epochs = 20\n",
    "output_folder = os.path.join(base_dir, \"pca_outputs\")\n",
    "save_path = os.path.join(output_folder, f'pca_data_{n_components}_augmented.pth')\n",
    "pretty_labels = ['Adenocarcinoma', 'Large Cell', 'Normal', 'Squamous Cell']"
   ]
  },
  {
   "cell_type": "code",
   "execution_count": 4,
   "id": "63818c3b",
   "metadata": {},
   "outputs": [],
   "source": [
    "# TRASFORMAZIONI BASE\n",
    "base_transform = transforms.Resize((image_size, image_size))\n",
    "tensor_transform = transforms.ToTensor()\n",
    "\n",
    "# Val/test con trasformazione base\n",
    "transform_val_test = transforms.Compose([\n",
    "    transforms.Resize((image_size, image_size)),\n",
    "    transforms.ToTensor()\n",
    "])"
   ]
  },
  {
   "cell_type": "code",
   "execution_count": 5,
   "id": "b7b06f19",
   "metadata": {},
   "outputs": [],
   "source": [
    "# DATASET\n",
    "paths = {\n",
    "    'train': os.path.join(base_dir, 'data_images', 'train'),\n",
    "    'val': os.path.join(base_dir, 'data_images', 'valid'),\n",
    "    'test': os.path.join(base_dir, 'data_images', 'test')\n",
    "}"
   ]
  },
  {
   "cell_type": "code",
   "execution_count": 6,
   "id": "7412d33e",
   "metadata": {},
   "outputs": [],
   "source": [
    "datasets_dict = {\n",
    "    'val': datasets.ImageFolder(paths['val'], transform=transform_val_test),\n",
    "    'test': datasets.ImageFolder(paths['test'], transform=transform_val_test)\n",
    "}"
   ]
  },
  {
   "cell_type": "code",
   "execution_count": 7,
   "id": "e830e993",
   "metadata": {},
   "outputs": [],
   "source": [
    "train_imgs, train_labels, class_names = build_balanced_augmented_tensor_dataset(\n",
    "    os.path.join(base_dir, 'data_images', 'train'), image_size=224, mode='augment', augment_factor=5\n",
    ")\n",
    "\n",
    "train_data = train_imgs.view(train_imgs.size(0), -1).numpy()"
   ]
  },
  {
   "cell_type": "code",
   "execution_count": 8,
   "id": "b1c439ed",
   "metadata": {},
   "outputs": [],
   "source": [
    "# DATALOADERS\n",
    "loaders = {k: DataLoader(datasets_dict[k], batch_size=batch_size, shuffle=False) for k in ['val', 'test']}"
   ]
  },
  {
   "cell_type": "code",
   "execution_count": 9,
   "id": "a5941e02",
   "metadata": {},
   "outputs": [
    {
     "name": "stderr",
     "output_type": "stream",
     "text": [
      "Estrazione dati: 100%|██████████| 3/3 [00:00<00:00,  4.34it/s]\n",
      "Estrazione dati: 100%|██████████| 10/10 [00:03<00:00,  3.29it/s]\n"
     ]
    }
   ],
   "source": [
    "# ESTRAZIONE\n",
    "def extract_data(loader):\n",
    "    data, labels = [], []\n",
    "    for images, targets in tqdm(loader, desc=\"Estrazione dati\"):\n",
    "        flat = images.view(images.size(0), -1)\n",
    "        data.append(flat)\n",
    "        labels.append(targets)\n",
    "    data = torch.cat(data, dim=0).numpy()\n",
    "    labels = torch.cat(labels).numpy()\n",
    "    return data, labels\n",
    "\n",
    "val_data, val_labels = extract_data(loaders['val'])\n",
    "test_data, test_labels = extract_data(loaders['test'])"
   ]
  },
  {
   "cell_type": "code",
   "execution_count": 10,
   "id": "9db3dcd8",
   "metadata": {},
   "outputs": [],
   "source": [
    "# NORMALIZZAZIONE\n",
    "min_val = train_data.min()\n",
    "max_val = train_data.max()\n",
    "\n",
    "def normalize(data):\n",
    "    return np.clip((data - min_val) / (max_val - min_val), 0, 1)\n",
    "\n",
    "train_data = normalize(train_data)\n",
    "val_data = normalize(val_data)\n",
    "test_data = normalize(test_data)"
   ]
  },
  {
   "cell_type": "code",
   "execution_count": 11,
   "id": "7a524c17",
   "metadata": {},
   "outputs": [],
   "source": [
    "# PCA\n",
    "pca = PCA(n_components=n_components)\n",
    "train_pca = pca.fit_transform(train_data)\n",
    "val_pca = pca.transform(val_data)\n",
    "test_pca = pca.transform(test_data)"
   ]
  },
  {
   "cell_type": "code",
   "execution_count": 12,
   "id": "4c9a7f9e",
   "metadata": {},
   "outputs": [
    {
     "name": "stdout",
     "output_type": "stream",
     "text": [
      "Dati salvati in c:\\Users\\noemi\\Documents\\GitHub\\DAML-project\\pca_outputs\\pca_data_146_augmented.pth\n"
     ]
    }
   ],
   "source": [
    "# SALVA DATI\n",
    "torch.save({\n",
    "    'train_data': train_pca,\n",
    "    'val_data': val_pca,\n",
    "    'test_data': test_pca,\n",
    "    'train_labels': train_labels,\n",
    "    'val_labels': val_labels,\n",
    "    'test_labels': test_labels,\n",
    "    'class_names': pretty_labels\n",
    "}, save_path)\n",
    "print(f\"Dati salvati in {save_path}\")"
   ]
  },
  {
   "cell_type": "code",
   "execution_count": 13,
   "id": "749a62ca",
   "metadata": {},
   "outputs": [
    {
     "data": {
      "image/png": "[encoded data removed]",
      "text/plain": [
       "<Figure size 640x480 with 1 Axes>"
      ]
     },
     "metadata": {},
     "output_type": "display_data"
    }
   ],
   "source": [
    "label_counts = collections.Counter(train_labels.tolist())\n",
    "plt.bar(pretty_labels, [label_counts.get(i, 0) for i in range(len(pretty_labels))])\n",
    "plt.title(\"Distribuzione delle classi - Train\")\n",
    "plt.xticks(rotation=15)\n",
    "plt.ylabel(\"Numero campioni\")\n",
    "plt.tight_layout()\n",
    "plt.show()\n"
   ]
  }
 ],
 "metadata": {
  "kernelspec": {
   "display_name": "base",
   "language": "python",
   "name": "python3"
  },
  "language_info": {
   "codemirror_mode": {
    "name": "ipython",
    "version": 3
   },
   "file_extension": ".py",
   "mimetype": "text/x-python",
   "name": "python",
   "nbconvert_exporter": "python",
   "pygments_lexer": "ipython3",
   "version": "3.12.7"
  }
 },
 "nbformat": 4,
 "nbformat_minor": 5
}
