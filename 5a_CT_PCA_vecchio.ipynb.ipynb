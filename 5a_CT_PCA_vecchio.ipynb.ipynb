{
 "cells": [
  {
   "cell_type": "code",
   "execution_count": 1,
   "id": "a029e8dd",
   "metadata": {},
   "outputs": [],
   "source": [
    "import os\n",
    "import torch\n",
    "import numpy as np\n",
    "from torchvision import transforms, datasets\n",
    "from torch.utils.data import DataLoader, TensorDataset\n",
    "from sklearn.decomposition import PCA\n",
    "from sklearn.metrics import classification_report, confusion_matrix\n",
    "import matplotlib.pyplot as plt\n",
    "import seaborn as sns\n",
    "from tqdm import tqdm\n",
    "import torch.nn as nn\n",
    "import torch.optim as optim\n",
    "import random"
   ]
  },
  {
   "cell_type": "code",
   "execution_count": 2,
   "id": "e4b99e28",
   "metadata": {},
   "outputs": [
    {
     "data": {
      "text/plain": [
       "<torch._C.Generator at 0x2d2f9a9e0f0>"
      ]
     },
     "execution_count": 2,
     "metadata": {},
     "output_type": "execute_result"
    }
   ],
   "source": [
    "# riproducibilità\n",
    "random.seed(42)\n",
    "torch.manual_seed(42)"
   ]
  },
  {
   "cell_type": "code",
   "execution_count": 3,
   "id": "60d1376e",
   "metadata": {},
   "outputs": [],
   "source": [
    "# CONFIGURAZIONE\n",
    "base_dir = os.getcwd()\n",
    "image_size = 224\n",
    "batch_size = 32\n",
    "n_components = 146\n",
    "# 3, 8, 17, 40, 146\n",
    "# dimensioni su cui vogliamo fare PCA, trovate con explained variance \n",
    "# e selezionado le soglie = [0.95, 0.85, 0.75, 0.65, 0.50]\n",
    "epochs = 100\n",
    "output_folder = os.path.join(base_dir, \"pca_outputs\")\n",
    "save_path = os.path.join(output_folder, f'pca_data_{n_components}.pth')\n",
    "pretty_labels = ['Adenocarcinoma', 'Large Cell', 'Normal', 'Squamous Cell']\n",
    "log_txt_path = os.path.join(output_folder, \"classification_reports.txt\")"
   ]
  },
  {
   "cell_type": "code",
   "execution_count": 4,
   "id": "516abd0a",
   "metadata": {},
   "outputs": [
    {
     "name": "stderr",
     "output_type": "stream",
     "text": [
      "C:\\Users\\noemi\\AppData\\Local\\Temp\\ipykernel_5804\\949298212.py:6: UserWarning: To copy construct from a tensor, it is recommended to use sourceTensor.detach().clone() or sourceTensor.detach().clone().requires_grad_(True), rather than torch.tensor(sourceTensor).\n",
      "  y_train = torch.tensor(data_dict['train_labels'], dtype=torch.long)\n"
     ]
    }
   ],
   "source": [
    "# RICARICA E TRAIN\n",
    "data_dict = torch.load(save_path, weights_only=False)\n",
    "\n",
    "\n",
    "X_train = torch.tensor(data_dict['train_data'], dtype=torch.float32)\n",
    "y_train = torch.tensor(data_dict['train_labels'], dtype=torch.long)\n",
    "X_val = torch.tensor(data_dict['val_data'], dtype=torch.float32)\n",
    "y_val = torch.tensor(data_dict['val_labels'], dtype=torch.long)\n",
    "X_test = torch.tensor(data_dict['test_data'], dtype=torch.float32)\n",
    "y_test = torch.tensor(data_dict['test_labels'], dtype=torch.long)\n",
    "\n",
    "train_loader = DataLoader(TensorDataset(X_train, y_train), batch_size=batch_size, shuffle=True)\n",
    "val_loader = DataLoader(TensorDataset(X_val, y_val), batch_size=batch_size)\n",
    "test_loader = DataLoader(TensorDataset(X_test, y_test), batch_size=batch_size)"
   ]
  },
  {
   "cell_type": "code",
   "execution_count": 5,
   "id": "14f01eda",
   "metadata": {},
   "outputs": [],
   "source": [
    "# RETE\n",
    "class FeedforwardNet(nn.Module):\n",
    "    def __init__(self, input_dim, hidden_dim, output_dim, dropout=0.6):\n",
    "        super().__init__()\n",
    "        self.fc1 = nn.Linear(input_dim, hidden_dim)\n",
    "        self.bn1 = nn.BatchNorm1d(hidden_dim)\n",
    "        self.fc2 = nn.Linear(hidden_dim, hidden_dim)\n",
    "        self.bn2 = nn.BatchNorm1d(hidden_dim)\n",
    "        self.relu = nn.ReLU()\n",
    "        self.dropout = nn.Dropout(dropout)\n",
    "        self.fc3 = nn.Linear(hidden_dim, output_dim)\n",
    "\n",
    "    def forward(self, x):\n",
    "        x = self.dropout(self.relu(self.bn1(self.fc1(x))))\n",
    "        x = self.dropout(self.relu(self.bn2(self.fc2(x))))\n",
    "        return self.fc3(x)\n"
   ]
  },
  {
   "cell_type": "code",
   "execution_count": 6,
   "id": "35e5bb77",
   "metadata": {},
   "outputs": [],
   "source": [
    "model = FeedforwardNet(n_components, 128, len(data_dict['class_names'])) #128, 64\n",
    "criterion = nn.CrossEntropyLoss()\n",
    "optimizer = optim.Adam(model.parameters(), lr=0.001, weight_decay=1e-4)"
   ]
  },
  {
   "cell_type": "code",
   "execution_count": 7,
   "id": "fafe762a",
   "metadata": {},
   "outputs": [
    {
     "name": "stdout",
     "output_type": "stream",
     "text": [
      "Epoch 1/100 | Train Loss: 32.0325 | Train Acc: 36.54% | Val Loss: 3.5714 | Val Acc: 55.56%\n",
      "Epoch 2/100 | Train Loss: 27.5700 | Train Acc: 51.54% | Val Loss: 3.2487 | Val Acc: 61.11%\n",
      "Epoch 3/100 | Train Loss: 23.7558 | Train Acc: 59.23% | Val Loss: 2.9887 | Val Acc: 61.11%\n",
      "Epoch 4/100 | Train Loss: 21.3807 | Train Acc: 64.87% | Val Loss: 2.8102 | Val Acc: 59.72%\n",
      "Epoch 5/100 | Train Loss: 19.0339 | Train Acc: 71.92% | Val Loss: 2.6576 | Val Acc: 65.28%\n",
      "Epoch 6/100 | Train Loss: 16.7044 | Train Acc: 72.95% | Val Loss: 2.4719 | Val Acc: 61.11%\n",
      "Epoch 7/100 | Train Loss: 15.3630 | Train Acc: 76.67% | Val Loss: 2.3326 | Val Acc: 63.89%\n",
      "Epoch 8/100 | Train Loss: 13.5738 | Train Acc: 80.64% | Val Loss: 2.2549 | Val Acc: 68.06%\n",
      "Epoch 9/100 | Train Loss: 11.8675 | Train Acc: 82.95% | Val Loss: 2.1326 | Val Acc: 69.44%\n",
      "Epoch 10/100 | Train Loss: 10.3833 | Train Acc: 85.26% | Val Loss: 2.1517 | Val Acc: 66.67%\n",
      "Epoch 11/100 | Train Loss: 9.9662 | Train Acc: 86.54% | Val Loss: 2.1085 | Val Acc: 68.06%\n",
      "Epoch 12/100 | Train Loss: 8.4902 | Train Acc: 89.10% | Val Loss: 1.9847 | Val Acc: 73.61%\n",
      "Epoch 13/100 | Train Loss: 8.8458 | Train Acc: 86.67% | Val Loss: 1.9033 | Val Acc: 76.39%\n",
      "Epoch 14/100 | Train Loss: 10.3350 | Train Acc: 85.90% | Val Loss: 1.8659 | Val Acc: 72.22%\n",
      "Epoch 15/100 | Train Loss: 6.9767 | Train Acc: 90.38% | Val Loss: 1.9625 | Val Acc: 70.83%\n",
      "Epoch 16/100 | Train Loss: 7.2509 | Train Acc: 90.13% | Val Loss: 1.8084 | Val Acc: 76.39%\n",
      "Epoch 17/100 | Train Loss: 6.4157 | Train Acc: 91.41% | Val Loss: 1.8352 | Val Acc: 75.00%\n",
      "Epoch 18/100 | Train Loss: 6.7771 | Train Acc: 90.13% | Val Loss: 1.9006 | Val Acc: 79.17%\n",
      "Epoch 19/100 | Train Loss: 7.0494 | Train Acc: 89.36% | Val Loss: 1.8070 | Val Acc: 77.78%\n",
      "Epoch 20/100 | Train Loss: 5.7954 | Train Acc: 92.31% | Val Loss: 1.6834 | Val Acc: 77.78%\n",
      "Epoch 21/100 | Train Loss: 5.9045 | Train Acc: 91.67% | Val Loss: 1.5995 | Val Acc: 76.39%\n",
      "Epoch 22/100 | Train Loss: 5.9149 | Train Acc: 93.21% | Val Loss: 1.6525 | Val Acc: 80.56%\n",
      "Epoch 23/100 | Train Loss: 5.4445 | Train Acc: 92.44% | Val Loss: 1.6272 | Val Acc: 72.22%\n",
      "Epoch 24/100 | Train Loss: 5.1355 | Train Acc: 92.69% | Val Loss: 1.6666 | Val Acc: 72.22%\n",
      "Epoch 25/100 | Train Loss: 5.6152 | Train Acc: 91.67% | Val Loss: 1.6764 | Val Acc: 76.39%\n",
      "Epoch 26/100 | Train Loss: 4.2872 | Train Acc: 94.23% | Val Loss: 1.5450 | Val Acc: 77.78%\n",
      "Epoch 27/100 | Train Loss: 5.4219 | Train Acc: 93.33% | Val Loss: 1.6596 | Val Acc: 75.00%\n",
      "Epoch 28/100 | Train Loss: 3.9579 | Train Acc: 94.87% | Val Loss: 1.6957 | Val Acc: 75.00%\n",
      "Epoch 29/100 | Train Loss: 4.5482 | Train Acc: 93.72% | Val Loss: 1.6270 | Val Acc: 77.78%\n",
      "Epoch 30/100 | Train Loss: 3.7029 | Train Acc: 94.62% | Val Loss: 1.6383 | Val Acc: 80.56%\n",
      "Epoch 31/100 | Train Loss: 4.0077 | Train Acc: 94.36% | Val Loss: 1.7494 | Val Acc: 76.39%\n",
      "Epoch 32/100 | Train Loss: 3.8939 | Train Acc: 93.72% | Val Loss: 1.6754 | Val Acc: 79.17%\n",
      "Epoch 33/100 | Train Loss: 4.9092 | Train Acc: 93.97% | Val Loss: 1.6473 | Val Acc: 77.78%\n",
      "Epoch 34/100 | Train Loss: 3.4383 | Train Acc: 94.49% | Val Loss: 1.6230 | Val Acc: 76.39%\n",
      "Epoch 35/100 | Train Loss: 4.0317 | Train Acc: 94.49% | Val Loss: 1.5168 | Val Acc: 77.78%\n",
      "Epoch 36/100 | Train Loss: 3.3316 | Train Acc: 95.51% | Val Loss: 1.6419 | Val Acc: 79.17%\n",
      "Epoch 37/100 | Train Loss: 3.5808 | Train Acc: 95.64% | Val Loss: 1.6524 | Val Acc: 79.17%\n",
      "Epoch 38/100 | Train Loss: 3.1705 | Train Acc: 96.41% | Val Loss: 1.7634 | Val Acc: 77.78%\n",
      "Epoch 39/100 | Train Loss: 4.0398 | Train Acc: 94.87% | Val Loss: 1.6877 | Val Acc: 79.17%\n",
      "Epoch 40/100 | Train Loss: 3.2605 | Train Acc: 95.13% | Val Loss: 1.5357 | Val Acc: 79.17%\n",
      "Epoch 41/100 | Train Loss: 3.3811 | Train Acc: 94.62% | Val Loss: 1.5337 | Val Acc: 81.94%\n",
      "Epoch 42/100 | Train Loss: 3.0699 | Train Acc: 95.64% | Val Loss: 1.7097 | Val Acc: 76.39%\n",
      "Epoch 43/100 | Train Loss: 2.4818 | Train Acc: 96.92% | Val Loss: 1.5162 | Val Acc: 79.17%\n",
      "Epoch 44/100 | Train Loss: 2.9496 | Train Acc: 96.54% | Val Loss: 1.5463 | Val Acc: 80.56%\n",
      "Epoch 45/100 | Train Loss: 3.4751 | Train Acc: 96.15% | Val Loss: 1.6105 | Val Acc: 80.56%\n",
      "Epoch 46/100 | Train Loss: 2.3631 | Train Acc: 97.31% | Val Loss: 1.6114 | Val Acc: 79.17%\n",
      "Epoch 47/100 | Train Loss: 3.1215 | Train Acc: 96.03% | Val Loss: 1.5988 | Val Acc: 80.56%\n",
      "Epoch 48/100 | Train Loss: 2.9421 | Train Acc: 96.28% | Val Loss: 1.5450 | Val Acc: 81.94%\n",
      "Epoch 49/100 | Train Loss: 2.5725 | Train Acc: 96.54% | Val Loss: 1.6163 | Val Acc: 79.17%\n",
      "Epoch 50/100 | Train Loss: 2.6400 | Train Acc: 96.15% | Val Loss: 1.6081 | Val Acc: 80.56%\n",
      "Epoch 51/100 | Train Loss: 2.6659 | Train Acc: 96.28% | Val Loss: 1.7902 | Val Acc: 76.39%\n",
      "Epoch 52/100 | Train Loss: 4.3842 | Train Acc: 94.62% | Val Loss: 1.6113 | Val Acc: 80.56%\n",
      "Epoch 53/100 | Train Loss: 2.1060 | Train Acc: 96.67% | Val Loss: 1.6691 | Val Acc: 77.78%\n",
      "🛑 Early stopping triggered.\n"
     ]
    }
   ],
   "source": [
    "# TRAINING con validazione ed early stopping\n",
    "def train_model(patience=10):\n",
    "    best_val_loss = float('inf')\n",
    "    trigger_times = 0\n",
    "\n",
    "    for epoch in range(epochs):\n",
    "        model.train()\n",
    "        total_loss, correct, total = 0, 0, 0\n",
    "        for X_batch, y_batch in train_loader:\n",
    "            optimizer.zero_grad()\n",
    "            output = model(X_batch)\n",
    "            loss = criterion(output, y_batch)\n",
    "            loss.backward()\n",
    "            optimizer.step()\n",
    "            total_loss += loss.item()\n",
    "            correct += (output.argmax(1) == y_batch).sum().item()\n",
    "            total += y_batch.size(0)\n",
    "        train_acc = 100 * correct / total\n",
    "\n",
    "        # VALIDAZIONE\n",
    "        model.eval()\n",
    "        val_loss, val_correct, val_total = 0, 0, 0\n",
    "        with torch.no_grad():\n",
    "            for X_batch, y_batch in val_loader:\n",
    "                output = model(X_batch)\n",
    "                loss = criterion(output, y_batch)\n",
    "                val_loss += loss.item()\n",
    "                val_correct += (output.argmax(1) == y_batch).sum().item()\n",
    "                val_total += y_batch.size(0)\n",
    "        val_acc = 100 * val_correct / val_total\n",
    "\n",
    "        print(f\"Epoch {epoch+1}/{epochs} | Train Loss: {total_loss:.4f} | Train Acc: {train_acc:.2f}% | Val Loss: {val_loss:.4f} | Val Acc: {val_acc:.2f}%\")\n",
    "\n",
    "        # EARLY STOPPING\n",
    "        if val_loss < best_val_loss:\n",
    "            best_val_loss = val_loss\n",
    "            trigger_times = 0\n",
    "            best_model_state = model.state_dict()\n",
    "        else:\n",
    "            trigger_times += 1\n",
    "            if trigger_times >= patience:\n",
    "                print(\"🛑 Early stopping triggered.\")\n",
    "                break\n",
    "\n",
    "    # Restore best model\n",
    "    model.load_state_dict(best_model_state)\n",
    "\n",
    "train_model()\n"
   ]
  },
  {
   "cell_type": "code",
   "execution_count": 8,
   "id": "1db7adb9",
   "metadata": {},
   "outputs": [
    {
     "name": "stdout",
     "output_type": "stream",
     "text": [
      "\n",
      "🧪 Test Loss: 17.6890 | Test Accuracy: 52.38%\n"
     ]
    }
   ],
   "source": [
    "# VALUTAZIONE FINALE\n",
    "model.eval()\n",
    "y_true = []\n",
    "y_pred = []\n",
    "test_loss, test_correct, test_total = 0, 0, 0\n",
    "\n",
    "with torch.no_grad():\n",
    "    for X_batch, y_batch in test_loader:\n",
    "        output = model(X_batch)\n",
    "        loss = criterion(output, y_batch)  # calcolo del test loss\n",
    "        test_loss += loss.item()\n",
    "        preds = output.argmax(1)\n",
    "\n",
    "        y_true.extend(y_batch.tolist())\n",
    "        y_pred.extend(preds.tolist())\n",
    "\n",
    "        test_correct += (preds == y_batch).sum().item()\n",
    "        test_total += y_batch.size(0)\n",
    "\n",
    "# Metriche test\n",
    "test_acc = 100 * test_correct / test_total\n",
    "print(f\"\\n🧪 Test Loss: {test_loss:.4f} | Test Accuracy: {test_acc:.2f}%\")\n"
   ]
  },
  {
   "cell_type": "code",
   "execution_count": 9,
   "id": "75e4c411",
   "metadata": {},
   "outputs": [
    {
     "name": "stdout",
     "output_type": "stream",
     "text": [
      "Classification Report 146:\n",
      "\n",
      "                precision    recall  f1-score   support\n",
      "\n",
      "Adenocarcinoma       0.63      0.10      0.17       120\n",
      "    Large Cell       0.35      0.84      0.49        51\n",
      "        Normal       0.98      0.91      0.94        54\n",
      " Squamous Cell       0.50      0.68      0.58        90\n",
      "\n",
      "      accuracy                           0.52       315\n",
      "     macro avg       0.61      0.63      0.55       315\n",
      "  weighted avg       0.61      0.52      0.47       315\n",
      "\n"
     ]
    }
   ],
   "source": [
    "# Report in console\n",
    "report_txt = classification_report(y_true, y_pred, target_names=pretty_labels)\n",
    "print(f\"Classification Report {n_components}:\\n\")\n",
    "print(report_txt)\n",
    "\n",
    "# Salva su file\n",
    "with open(log_txt_path, \"a\") as f:\n",
    "    f.write(f\"Classification Report - {n_components} Components\\n\")\n",
    "    f.write(report_txt)\n",
    "    f.write(\"\\n\" + \"=\"*80 + \"\\n\")"
   ]
  },
  {
   "cell_type": "code",
   "execution_count": 10,
   "id": "e2e4d080",
   "metadata": {},
   "outputs": [
    {
     "data": {
      "image/png": "[encoded data removed]",
      "text/plain": [
       "<Figure size 800x600 with 2 Axes>"
      ]
     },
     "metadata": {},
     "output_type": "display_data"
    }
   ],
   "source": [
    "# Confusion Matrix\n",
    "cm = confusion_matrix(y_true, y_pred)\n",
    "title = f'Confusion Matrix_{n_components}'\n",
    "plt.figure(figsize=(8, 6))\n",
    "sns.heatmap(cm, annot=True, fmt='d', xticklabels=pretty_labels, yticklabels=pretty_labels, cmap='Blues')\n",
    "plt.xlabel('Predicted')\n",
    "plt.ylabel('True')\n",
    "plt.title(title)\n",
    "plot_path = os.path.join(output_folder, f'{title}.png')\n",
    "plt.savefig(plot_path)\n",
    "plt.tight_layout()\n",
    "plt.show()"
   ]
  }
 ],
 "metadata": {
  "kernelspec": {
   "display_name": "base",
   "language": "python",
   "name": "python3"
  },
  "language_info": {
   "codemirror_mode": {
    "name": "ipython",
    "version": 3
   },
   "file_extension": ".py",
   "mimetype": "text/x-python",
   "name": "python",
   "nbconvert_exporter": "python",
   "pygments_lexer": "ipython3",
   "version": "3.12.7"
  }
 },
 "nbformat": 4,
 "nbformat_minor": 5
}
