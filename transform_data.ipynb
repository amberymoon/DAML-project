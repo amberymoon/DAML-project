{
 "cells": [
  {
   "cell_type": "code",
   "execution_count": 1,
   "id": "c916cef2",
   "metadata": {},
   "outputs": [],
   "source": [
    "import os\n",
    "import torch\n",
    "import modules.strings as strings\n",
    "from pprint import pprint\n",
    "import modules.augmenting as augmenting\n",
    "\n",
    "# torch.set_printoptions(threshold=160000)\n",
    "os.environ[\"KMP_DUPLICATE_LIB_OK\"] = \"TRUE\"\n",
    "# problema librerie che usano OpenMP, due versioni di OpenMP sono caricate nello stesso processo, ad esempio da PyTorch e da NumPy"
   ]
  },
  {
   "cell_type": "markdown",
   "id": "d7f18cd0",
   "metadata": {},
   "source": [
    "#### Load data, do data augmentation"
   ]
  },
  {
   "cell_type": "code",
   "execution_count": 2,
   "id": "0bd62f47",
   "metadata": {},
   "outputs": [
    {
     "name": "stdout",
     "output_type": "stream",
     "text": [
      "/home/user/DAML-project/data_images\n"
     ]
    }
   ],
   "source": [
    "root_path = strings.find(os.getcwd(), \"data_images\")\n",
    "print(root_path)"
   ]
  },
  {
   "cell_type": "code",
   "execution_count": 3,
   "id": "539b4151",
   "metadata": {},
   "outputs": [
    {
     "name": "stdout",
     "output_type": "stream",
     "text": [
      "{'Adenocarcinoma': 195,\n",
      " 'LargeCellCarcinoma': 115,\n",
      " 'Noncancer': 148,\n",
      " 'SquamousCellCarcinoma': 155}\n",
      "torch.Size([1839, 512])\n",
      "torch.Size([1839])\n",
      "{'Adenocarcinoma': 23,\n",
      " 'LargeCellCarcinoma': 21,\n",
      " 'Noncancer': 13,\n",
      " 'SquamousCellCarcinoma': 15}\n",
      "torch.Size([216, 512])\n",
      "torch.Size([216])\n",
      "{'Adenocarcinoma': 120,\n",
      " 'LargeCellCarcinoma': 51,\n",
      " 'Noncancer': 54,\n",
      " 'SquamousCellCarcinoma': 90}\n",
      "torch.Size([945, 512])\n",
      "torch.Size([945])\n"
     ]
    }
   ],
   "source": [
    "for name in [\"train\", \"valid\", \"test\"]:\n",
    "    datasets = augmenting.augment_dataset(os.path.join(root_path, name), times=2)\n",
    "    pprint(name, strings.classes_nums(datasets[0]))\n",
    "\n",
    "    results, targets = augmenting.map_datasets(datasets)\n",
    "    print(results.shape)\n",
    "    print(targets.shape)\n",
    "    torch.save({\"Features\": results, \"Targets\": targets}, os.path.join(root_path, f\"{name}.pt\"))"
   ]
  }
 ],
 "metadata": {
  "kernelspec": {
   "display_name": ".venv",
   "language": "python",
   "name": "python3"
  },
  "language_info": {
   "codemirror_mode": {
    "name": "ipython",
    "version": 3
   },
   "file_extension": ".py",
   "mimetype": "text/x-python",
   "name": "python",
   "nbconvert_exporter": "python",
   "pygments_lexer": "ipython3",
   "version": "3.10.16"
  }
 },
 "nbformat": 4,
 "nbformat_minor": 5
}
