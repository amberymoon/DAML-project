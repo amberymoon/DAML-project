{
 "cells": [
  {
   "cell_type": "code",
   "execution_count": 1,
   "id": "c916cef2",
   "metadata": {},
   "outputs": [],
   "source": [
    "from torchvision import transforms\n",
    "from torchvision import datasets\n",
    "from torch.utils.data import DataLoader\n",
    "import os\n",
    "import torch\n",
    "import torch.nn as nn\n",
    "from torchvision.models import resnet18, ResNet18_Weights\n",
    "import torch.optim as optim\n",
    "from sklearn.metrics import classification_report, accuracy_score, f1_score, precision_score, recall_score\n",
    "\n",
    "os.environ[\"KMP_DUPLICATE_LIB_OK\"] = \"TRUE\"\n",
    "# problema librerie che usano OpenMP, due versioni di OpenMP sono caricate nello stesso processo, ad esempio da PyTorch e da NumPy"
   ]
  },
  {
   "cell_type": "code",
   "execution_count": 2,
   "id": "0bd62f47",
   "metadata": {},
   "outputs": [
    {
     "name": "stdout",
     "output_type": "stream",
     "text": [
      "/home/user/DAML/DAML_project/data_images\n"
     ]
    }
   ],
   "source": [
    "dataset_path = os.path.join(os.getcwd(), \"DAML_project\", 'data_images')\n",
    "print(dataset_path)"
   ]
  },
  {
   "cell_type": "code",
   "execution_count": 3,
   "id": "78f4dc5d",
   "metadata": {},
   "outputs": [],
   "source": [
    "# Mean e std per immagini RGB normalizzate su [-1, 1]\n",
    "mean = [0.5, 0.5, 0.5]\n",
    "std = [0.5, 0.5, 0.5]\n",
    "\n",
    "train_transform = transforms.Compose([\n",
    "    transforms.Resize((224, 224)),\n",
    "    transforms.RandomHorizontalFlip(),\n",
    "    transforms.RandomRotation(10),\n",
    "    transforms.ColorJitter(brightness=0.1, contrast=0.1),\n",
    "    transforms.ToTensor(),\n",
    "    transforms.Normalize(mean, std)\n",
    "])\n",
    "\n",
    "val_test_transform = transforms.Compose([\n",
    "    transforms.Resize((224, 224)),\n",
    "    transforms.ToTensor(),\n",
    "    transforms.Normalize(mean, std)\n",
    "])\n",
    "\n",
    "# per fare data augmentation utiliziammo transforms.Compose di torchvision, facciamo data augmentation solo ai set di train"
   ]
  },
  {
   "cell_type": "code",
   "execution_count": 4,
   "id": "186741e2",
   "metadata": {},
   "outputs": [
    {
     "name": "stdout",
     "output_type": "stream",
     "text": [
      "Train dataset size: 613\n"
     ]
    }
   ],
   "source": [
    "train_dataset = datasets.ImageFolder(root=os.path.join(dataset_path, \"train\"), transform=train_transform)\n",
    "val_dataset = datasets.ImageFolder(root=os.path.join(dataset_path, \"valid\"), transform=val_test_transform)\n",
    "test_dataset = datasets.ImageFolder(root=os.path.join(dataset_path, \"test\"), transform=val_test_transform)\n",
    "\n",
    "\n",
    "print(f\"Train dataset size: {len(train_dataset)}\")\n",
    "\n",
    "train_loader = DataLoader(train_dataset, batch_size=len(train_dataset), shuffle=True)\n",
    "\n",
    "val_loader = DataLoader(val_dataset, batch_size=32, shuffle=False)\n",
    "test_loader = DataLoader(test_dataset, batch_size=32, shuffle=False)\n",
    "\n",
    "# Classi leggibili (opzionale)\n",
    "pretty_classes = ['Adenocarcinoma', 'Adgelcarcinoma', 'Squamosgelcarcinoma', 'Noncancer']"
   ]
  },
  {
   "cell_type": "code",
   "execution_count": 5,
   "id": "0a9c31e5",
   "metadata": {},
   "outputs": [
    {
     "name": "stdout",
     "output_type": "stream",
     "text": [
      "torch.Size([613, 512])\n"
     ]
    }
   ],
   "source": [
    "device = torch.device(\"cuda\" if torch.cuda.is_available() else \"cpu\")\n",
    "\n",
    "model = resnet18(weights=ResNet18_Weights.DEFAULT) # trasnfer learning (pre-trained model)\n",
    "\n",
    "# congela i layer convoluzionali per fare fine-tuning solo sull'ultimo layer\n",
    "for param in model.parameters():\n",
    "    param.requires_grad = False\n",
    "\n",
    "# Sblocca solo l'ultimo FC Layer\n",
    "model.fc = nn.Identity()  # rimuove l'ultimo layer FC\n",
    "model.eval()\n",
    "\n",
    "for inputs, labels in train_loader:\n",
    "    # optimizer.zero_grad()\n",
    "    outputs = model(inputs)\n",
    "    # loss = criterion(outputs, labels)\n",
    "    # loss.backward()\n",
    "    # optimizer.step()\n",
    "    print(outputs.shape)\n",
    "    break\n"
   ]
  }
 ],
 "metadata": {
  "kernelspec": {
   "display_name": ".venv",
   "language": "python",
   "name": "python3"
  },
  "language_info": {
   "codemirror_mode": {
    "name": "ipython",
    "version": 3
   },
   "file_extension": ".py",
   "mimetype": "text/x-python",
   "name": "python",
   "nbconvert_exporter": "python",
   "pygments_lexer": "ipython3",
   "version": "3.10.16"
  }
 },
 "nbformat": 4,
 "nbformat_minor": 5
}
